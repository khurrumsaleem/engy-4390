{
 "cells": [
  {
   "cell_type": "markdown",
   "metadata": {},
   "source": [
    "**Engy-4390** Nuclear Systems Design and Analysis, UMass Lowell, Chem. Eng. Nuclear Program Fall 2020\n",
    "\n",
    "# NuScale 720 SMR BoP Simulation Report\n",
    "$  \n",
    "  \\newcommand{\\Amtrx}{\\boldsymbol{\\mathsf{A}}}\n",
    "  \\newcommand{\\Bmtrx}{\\boldsymbol{\\mathsf{B}}}\n",
    "  \\newcommand{\\Mmtrx}{\\boldsymbol{\\mathsf{M}}}\n",
    "  \\newcommand{\\Imtrx}{\\boldsymbol{\\mathsf{I}}}\n",
    "  \\newcommand{\\Pmtrx}{\\boldsymbol{\\mathsf{P}}}\n",
    "  \\newcommand{\\Lmtrx}{\\boldsymbol{\\mathsf{L}}}\n",
    "  \\newcommand{\\Umtrx}{\\boldsymbol{\\mathsf{U}}}\n",
    "  \\newcommand{\\Smtrx}{\\boldsymbol{\\mathsf{S}}}\n",
    "  \\newcommand{\\xvec}{\\boldsymbol{\\mathsf{x}}}\n",
    "  \\newcommand{\\uvar}{\\boldsymbol{u}}\n",
    "  \\newcommand{\\fvar}{\\boldsymbol{f}}\n",
    "  \\newcommand{\\avec}{\\boldsymbol{\\mathsf{a}}}\n",
    "  \\newcommand{\\bvec}{\\boldsymbol{\\mathsf{b}}}\n",
    "  \\newcommand{\\cvec}{\\boldsymbol{\\mathsf{c}}}\n",
    "  \\newcommand{\\rvec}{\\boldsymbol{\\mathsf{r}}}\n",
    "  \\newcommand{\\mvec}{\\boldsymbol{\\mathsf{m}}}\n",
    "  \\newcommand{\\gvec}{\\boldsymbol{\\mathsf{g}}}\n",
    "  \\newcommand{\\zerovec}{\\boldsymbol{\\mathsf{0}}}\n",
    "  \\newcommand{\\norm}[1]{\\bigl\\lVert{#1}\\bigr\\rVert}\n",
    "  \\newcommand{\\transpose}[1]{{#1}^\\top}\n",
    "  \\DeclareMathOperator{\\rank}{rank}\n",
    "  \\newcommand{\\Power}{\\mathcal{P}}\n",
    "$"
   ]
  },
  {
   "cell_type": "markdown",
   "metadata": {},
   "source": [
    "**Students:** Jack and Nik <br>\n",
    "**Course:** Engy-4390 Nuclear Systems Design and Analysis  <br>\n",
    "**Mentor:** Prof. Valmor F. de Almeida\n",
    "\n",
    "UMass Lowell, Dept. of Chemical Engineering, Nuclear Energy Program \n",
    "<br>\n",
    "**11Dec2020**"
   ]
  },
  {
   "cell_type": "markdown",
   "metadata": {},
   "source": [
    "---\n",
    "## Table of Contents<a id=\"toc\"></a>\n",
    "* [Introduction](#intro)\n",
    "* [Objectives](#obj)\n",
    "* [Approach](#app)\n",
    "* [Balance of Plant](#bop)\n",
    "  + [Reactor](#reactor)\n",
    "  + [Steam Generator](#steamgen)\n",
    "  + [Turbine](#turbine)\n",
    "  + [Condenser](#condenser)\n",
    "  + [Water Heater](#watheater)\n",
    "  + [Network](#net)\n",
    "* [Startup](#startup)\n",
    "* [Steady-State](#ss)\n",
    "* [Shutdown](#shutdown)\n",
    "* [References](#refs)\n",
    "---"
   ]
  },
  {
   "cell_type": "markdown",
   "metadata": {},
   "source": [
    "## [Introduction](#toc)<a id=\"intro\"></a>"
   ]
  },
  {
   "cell_type": "markdown",
   "metadata": {},
   "source": [
    "- As nuclear power continues to find its niche in the energy market, we are seeing an increasing trend towards Small Modular Reactors (SMRs). The benefit to SMRs is their small plant area, modularized reactor design allowing for more cost effective manufacturing, and their low level of operator interaction. "
   ]
  },
  {
   "cell_type": "markdown",
   "metadata": {},
   "source": [
    "- The NuScale 720 integral PWR has been under design for close to two decades. The 720 offers a safe design which uses no active components. Instead, the design relies primarily on gravity and natural convection which decreases the maintenance requirements of the system. NuScale Power Modules™ will be manufactured in factories, allowing for a monumental increase in production - the likes of which has never been seen by any other nuclear power plant design. With 2027 being the projected year for the first commercially operated plant, the NuScale 720 looks to become a mainstay in power generation for the U.S. "
   ]
  },
  {
   "cell_type": "markdown",
   "metadata": {},
   "source": [
    "- In the NuScale 720 design, the 12 modular reactors are submerged in a pool of water that acts as a heat sink. This pool is designed to respond to reactor conditions by drying up when external power is shut off. This leads to an air cooling mode that can be used in the case of long term (< 30 days) power shutdown. This is the only point where the different reactors influence each other, so it is imperative that each of our cores relates back to this water basin."
   ]
  },
  {
   "cell_type": "markdown",
   "metadata": {},
   "source": [
    "- The NuScale 720 has core inlet and outlet coolant temperatures of 265℃ and 321 ℃, respectively. The plant has 12 total reactor modules that split into two turbine buildings, each housing six turbines. Each core produces 200 MWt and 60 MWe for a total capacity to the grid, after considering plant consumption, of 685 MWe. The nominal coolant flow rate for one primary loop is 666 kg/s, whilst the nominal flow rate for the secondary loop is 87 kg/s."
   ]
  },
  {
   "cell_type": "markdown",
   "metadata": {},
   "source": [
    "- A balance of plant (BoP) is used to illustrate all components that are involved in energy production. A BoP includes systems like the core, steam generator, turbine, pressurizer, feed water system, and condenser. A BoP can be used to see how each part of the plant plays a role in the overall production of energy. The real time changes of key factors in each part of the reactor, such as changing the control rod level in the reactor, to see how it affects all the other parts of the plant over time. "
   ]
  },
  {
   "cell_type": "markdown",
   "metadata": {},
   "source": [
    "## [Objectives](#toc)<a id=\"obj\"></a>"
   ]
  },
  {
   "cell_type": "markdown",
   "metadata": {},
   "source": [
    "- A BoP will be created for the NuScale 720 reactor system using Python. We will use modules to mimic specific elements such as: the cores, condensers, steam generators, and turbines. A single point kinetics method will be used for modeling the core. A two temperature approach will be used to model the heat transfer meaning we only consider the inlet and outlet temperature of the module. We will be developing the model in Python with the use of the network modeling and HPC simulation library CORTIX. CORTIX will be used in conjunction with the Python modules to allow for dynamic modeling of the plant during start up and shut down of the reactors."
   ]
  },
  {
   "cell_type": "markdown",
   "metadata": {},
   "source": [
    "- Our goal for the project is to create a Balance of Plant dynamic system for the NuScale720 12 modular reactor plant. The following accident scenarios will be modeled: melting scenarios, primary loop breaking, and temperature rates during loss of cooling (LOCA) scenarios."
   ]
  },
  {
   "cell_type": "markdown",
   "metadata": {},
   "source": [
    "## [Approach](#toc)<a id=\"app\"></a>"
   ]
  },
  {
   "cell_type": "markdown",
   "metadata": {},
   "source": [
    "- Figure 3 shows how each of the components of our model will feed into each other. The first step to building our model is to outline the inputs, outputs, and equations that govern each individual module in our simulation. Starting at our reactor, information about the tank (such as the level and temperature) go into our reactor module along with instructions from the controller, and feedback from the pressurizer. The reactor then outputs information about the primary loop flow to the steam generator which converts that input information into a steam output. This output steam information is then fed into the turbine system which calculates High, Intermediate, and Low condensate pressures as well as sending excess steam to a condenser that has feedback from a cooling tower. These different condensates from the turbine and the condenser feed into each other until they get to a high pressure feedwater heater tank that outputs information back into the starting reactor."
   ]
  },
  {
   "cell_type": "markdown",
   "metadata": {},
   "source": [
    "- A module for the integral plant components including the core, turbine, pressurizer, steam generator, condenser, and feed water system will be modeled using Python. Most information will be obtained from Nuclear Systems Volume 1 and Professor de Almeida’s previous work on making BoP systems for nuclear reactors. "
   ]
  },
  {
   "cell_type": "markdown",
   "metadata": {},
   "source": [
    "|     **Module**        |      **Inputs**      |      **Outputs**       |     **Legend**     |\n",
    "|:----------------------|:---------------------|:-----------------------|:-------------------|\n",
    "| Core (CR)             |-F,T,P from SG        |-F,T,P, to SG           |-F: Flowrate        |\n",
    "|                       |-F,T,P from PR        |-F,T,P, to PR           |-T: Temperature     |\n",
    "|                       |-H from OWP           |-Q to OWP               |-P: Pressure        |\n",
    "|Pressurizer (PR)       |-F,T,P from CR        |-F,T,P to CR            |-Q: Heat rate       |\n",
    "|                       |                      |                        |-X: Steam quality   |\n",
    "|                       |                      |                        |-H: Height          |\n",
    "|                       |                      |                        |-E: Electrical power|\n",
    "|Steam Generator (SG)   |-F,T,P from CR and FWS|-F,T,P to CR            |                    |\n",
    "|                       |                      |-F,T,P,X to TU          |                    |\n",
    "|Turbine (TU)           |-F,T,P,X from TU      |-E output as electricity|                    |\n",
    "|                       |                      |-F,T,P,X to CD and FWS  |                    |\n",
    "|Condenser (CD)         |-F,T,P,X from TU      |-F,T,P to FWS           |                    |\n",
    "|                       |-Q from cooling tower |                        |                    |\n",
    "|Feed Water System (FWS)|-F,T,P from CD and TU |-F,T,P to CR            |                    |\n",
    "|Open Water Pool (OWP)  |-Q from CR            |-H to all CRs           |                    |"
   ]
  },
  {
   "cell_type": "markdown",
   "metadata": {},
   "source": [
    "- Because we are only a two man group. We will be sharing most of the work and the work will be recorded through weekly progress reports. A schedule of our planned work is shown in table 2."
   ]
  },
  {
   "cell_type": "markdown",
   "metadata": {},
   "source": [
    "## [Balance of Plant](#toc)<a id=\"bop\"></a>"
   ]
  },
  {
   "cell_type": "code",
   "execution_count": 1,
   "metadata": {
    "scrolled": true
   },
   "outputs": [
    {
     "name": "stderr",
     "output_type": "stream",
     "text": [
      "[10628] 2020-12-05 15:34:28,028 - cortix - INFO - Created Cortix object \n",
      "_____________________________________________________________________________\n",
      "                             L A U N C H I N G                               \n",
      "_____________________________________________________________________________\n",
      "      ...                                        s       .     (TAAG Fraktur)\n",
      "   xH88\"`~ .x8X                                 :8      @88>\n",
      " :8888   .f\"8888Hf        u.      .u    .      .88      %8P      uL   ..\n",
      ":8888>  X8L  ^\"\"`   ...ue888b   .d88B :@8c    :888ooo    .     .@88b  @88R\n",
      "X8888  X888h        888R Y888r =\"8888f8888r -*8888888  .@88u  \"\"Y888k/\"*P\n",
      "88888  !88888.      888R I888>   4888>\"88\"    8888    888E`    Y888L\n",
      "88888   %88888      888R I888>   4888> \"      8888      888E      8888\n",
      "88888 `> `8888>     888R I888>   4888>        8888      888E      `888N\n",
      "`8888L %  ?888   ! u8888cJ888   .d888L .+    .8888Lu=   888E   .u./\"888&\n",
      " `8888  `-*\"\"   /   \"*888*P\"    ^\"8888*\"     ^%888*     888&  d888\" Y888*\"\n",
      "   \"888.      :\"      \"Y\"          \"Y\"         \"Y\"      R888\" ` \"Y   Y\"\n",
      "     `\"\"***~\"`                                           \"\"\n",
      "                             https://cortix.org                              \n",
      "_____________________________________________________________________________\n"
     ]
    }
   ],
   "source": [
    "'''Setup a Cortix plant'''\n",
    "\n",
    "from cortix import Cortix\n",
    "from cortix import Network\n",
    "\n",
    "plant = Cortix(use_mpi=False, splash=True) # System top level\n",
    "plant_net = plant.network = Network() # Network"
   ]
  },
  {
   "cell_type": "markdown",
   "metadata": {},
   "source": [
    "### [Reactor](#toc)<a id=\"reactor\"></a>"
   ]
  },
  {
   "cell_type": "code",
   "execution_count": 2,
   "metadata": {},
   "outputs": [],
   "source": [
    "'''Setup Reactor'''\n",
    "\n",
    "from bop.reactor import SMPWR\n",
    "reactor = SMPWR()  # Create reactor module\n",
    "\n",
    "reactor.name = 'SMPWR'\n",
    "reactor.save = True\n",
    "\n",
    "plant_net.module(reactor)  # Add reactor module to network"
   ]
  },
  {
   "cell_type": "markdown",
   "metadata": {},
   "source": [
    "### [Steam Generator](#toc)<a id=\"steamgen\"></a>"
   ]
  },
  {
   "cell_type": "markdown",
   "metadata": {},
   "source": [
    "The steam generator is modeled as a countercurrent heat exchanger using the number of of transfer units (NTU) where $\\mathrm{NTU} \\equiv \\frac{\\mathrm{UA}}{\\mathrm{C}_{\\mathrm{min}}}$. \n",
    "\n",
    "The heat transfer rate is given by $\\mathrm{q}=\\varepsilon \\mathrm{C}_{\\min }\\left(\\mathrm{T}_{\\mathrm{h}, \\mathrm{i}}-\\mathrm{T}_{\\mathrm{c}, \\mathrm{i}}\\right)$ where $C_{\\mathrm{r}}=\\frac{\\mathrm{C}_{\\mathrm{min}}}{\\mathrm{C}_{\\max }}$ and $C_{j}=\\dot{\\mathrm{m}}_{j} c_{p, j}$. \n",
    "\n",
    "The effectiveness, $\\varepsilon$ , for a countercurrent heat exchanger is given by $\\varepsilon=\\frac{1-\\exp \\left[-\\mathrm{NTU}\\left(1-C_{r}\\right)\\right]}{1-C_{r} \\exp \\left[-\\mathrm{NTU}\\left(1-C_{r}\\right)\\right]}$ and is valid for $\\left(C_{r}<1\\right)$. \n",
    "\n",
    "Given the inlet temperatures the primary outlet temperature can be solved for from $\\mathrm{T}_{\\mathrm{h}, \\mathrm{o}}=\\mathrm{T}_{\\mathrm{h}, \\mathrm{i}^{-}} \\frac{\\mathrm{q}}{\\mathrm{C}_{\\mathrm{hot}}}$ and the seconday outlet temperature from $\\mathrm{T}_{\\mathrm{c}, \\mathrm{o}}=\\mathrm{T}_{\\mathrm{c}, \\mathrm{i}}+\\frac{\\mathrm{q}}{\\mathrm{C}_{\\text {cold }}}$\n",
    "\n",
    "##### Calculated paramters/ constants: \n",
    "\n",
    "$\\mathrm{C}_{\\mathrm{hot}}=3729.7 \\mathrm{~kW} / \\mathrm{K}$\n",
    "\n",
    "$\\mathrm{C}_{\\mathrm{cold}}=1110.5 \\mathrm{~kW} / \\mathrm{K}$\n",
    "\n",
    "$c_{p, \\text { primary }}=5.6000 \\mathrm{~kJ} / \\mathrm{kg}-\\mathrm{K}$\n",
    "\n",
    "$c_{p, \\text { seconary }}=4.2980 \\mathrm{~kJ} / \\mathrm{kg}-\\mathrm{K}$\n",
    "\n",
    "Where all properties are assumed to be constant and $C_{\\text {cold }}$ is a ficticious value in order to account for phase change. The actual secondary side outlet tempeprature is calculated from $\\mathrm{T}_{\\mathrm{c}, \\mathrm{o}}=\\mathrm{T}_{\\mathrm{c}, \\mathrm{i}}+\\frac{\\mathrm{q}}{\\mathrm{C}_{\\text {cold }}}$ , $\\mathrm{q}_{\\text {secondary }}=\\mathrm{C}_{\\text {cold }}\\left(\\mathrm{T}_{\\mathrm{c}, \\mathrm{o}}-\\mathrm{T}_{\\mathrm{c}, \\mathrm{i}}\\right)$, and separating the secondary side coolant into liquid heating, vaporizing, and gas heating sections.\n",
    "\n",
    "$\\Delta \\mathrm{H}_{\\mathrm{vap}}=1765.4 \\mathrm{~kJ} / \\mathrm{kg} @ 513 \\mathrm{~K}$\n",
    "\n",
    "$\\mathrm{T}_{\\mathrm{sat}}=516 \\mathrm{~K}$\n",
    "\n",
    "The gas heat capacity is given by $\\int_{\\mathrm{Tsat}}^{\\mathrm{T}} \\frac{\\mathrm{c}_{\\mathrm{p}}}{\\mathrm{R}} \\mathrm{dT}=\\mathrm{A}\\left(\\mathrm{T}-\\mathrm{T}_{\\mathrm{sat}}\\right)-\\frac{\\mathrm{B}}{2}\\left(\\mathrm{~T}^{2}-\\mathrm{T}_{\\mathrm{sat}}^{2}\\right)$\n",
    "\n",
    "where, for water, A = 3.470 and B = 1.450*$10^{3}$"
   ]
  },
  {
   "cell_type": "code",
   "execution_count": 3,
   "metadata": {},
   "outputs": [
    {
     "name": "stdout",
     "output_type": "stream",
     "text": [
      "5.251731852080236 2.625865926040118\n"
     ]
    }
   ],
   "source": [
    "'''Setup Steamer'''\n",
    "\n",
    "from bop.steamer import Steamer\n",
    "steamer = Steamer()  # Create steamer module\n",
    "\n",
    "steamer.name = 'Steamer'\n",
    "steamer.save = True\n",
    "\n",
    "plant_net.module(steamer)  # Add steamer module to network"
   ]
  },
  {
   "cell_type": "markdown",
   "metadata": {},
   "source": [
    "### [Turbine](#toc)<a id=\"turbine\"></a>"
   ]
  },
  {
   "cell_type": "code",
   "execution_count": 4,
   "metadata": {},
   "outputs": [],
   "source": [
    "'''Setup Turbine'''\n",
    "\n",
    "from bop.turbine import Turbine\n",
    "turbine = Turbine()  # Create turbine module\n",
    "\n",
    "turbine.name = 'Turbine'\n",
    "turbine.save = True\n",
    "\n",
    "plant_net.module(turbine)  # Add turbine module to network"
   ]
  },
  {
   "cell_type": "markdown",
   "metadata": {},
   "source": [
    "### [Condenser](#toc)<a id=\"condenser\"></a>"
   ]
  },
  {
   "cell_type": "code",
   "execution_count": 5,
   "metadata": {},
   "outputs": [],
   "source": [
    "'''Setup Condenser'''\n",
    "\n",
    "from bop.condenser import Condenser\n",
    "condenser = Condenser()  # Create condenser module\n",
    "\n",
    "condenser.name = 'Condenser'\n",
    "condenser.save = True\n",
    "\n",
    "#plant_net.module(condenser)  # Add condenser module to network"
   ]
  },
  {
   "cell_type": "markdown",
   "metadata": {},
   "source": [
    "### [Water Heater](#toc)<a id=\"watheater\"></a>"
   ]
  },
  {
   "cell_type": "code",
   "execution_count": 6,
   "metadata": {},
   "outputs": [],
   "source": [
    "'''Setup Water Heater system'''\n",
    "\n",
    "from bop.water_heater import WaterHeater\n",
    "water_heater = WaterHeater()  # Create water_heater module\n",
    "\n",
    "water_heater.name = 'Water Heater'\n",
    "water_heater.save = True\n",
    "\n",
    "#plant_net.module(water_heater)  # Add water_heater module to network"
   ]
  },
  {
   "cell_type": "markdown",
   "metadata": {},
   "source": [
    "### [Network](#toc)<a id=\"net\"></a>"
   ]
  },
  {
   "cell_type": "code",
   "execution_count": null,
   "metadata": {},
   "outputs": [],
   "source": [
    "'''Balance of Plant Network Connectivity'''\n",
    "\n",
    "#plant_net.connect([reactor, 'coolant-outflow'], [steamer, 'primary-inflow'])\n",
    "#plant_net.connect([steamer, 'primary-outflow'], [reactor, 'coolant-inflow'])\n",
    "#plant_net.connect([steamer, 'secondary-outflow'], [turbine, 'inflow'])\n",
    "#plant_net.connect([turbine, 'outflow'], [condenser, 'inflow'])\n",
    "#plant_net.connect([condenser, 'outflow'], [water_heater, 'inflow'])\n",
    "#plant_net.connect([water_heater, 'outflow'], [steamer, 'secondary-inflow'])"
   ]
  },
  {
   "cell_type": "code",
   "execution_count": 7,
   "metadata": {},
   "outputs": [
    {
     "data": {
      "image/svg+xml": [
       "<?xml version=\"1.0\" encoding=\"UTF-8\" standalone=\"no\"?>\r\n",
       "<!DOCTYPE svg PUBLIC \"-//W3C//DTD SVG 1.1//EN\"\r\n",
       " \"http://www.w3.org/Graphics/SVG/1.1/DTD/svg11.dtd\">\r\n",
       "<!-- Generated by graphviz version 2.38.0 (20140413.2041)\r\n",
       " -->\r\n",
       "<!-- Title: network&#45;0 Pages: 1 -->\r\n",
       "<svg width=\"159pt\" height=\"128pt\"\r\n",
       " viewBox=\"0.00 0.00 159.00 128.00\" xmlns=\"http://www.w3.org/2000/svg\" xmlns:xlink=\"http://www.w3.org/1999/xlink\">\r\n",
       "<g id=\"graph0\" class=\"graph\" transform=\"scale(1 1) rotate(0) translate(4 124)\">\r\n",
       "<title>network&#45;0</title>\r\n",
       "<polygon fill=\"white\" stroke=\"none\" points=\"-4,4 -4,-124 155,-124 155,4 -4,4\"/>\r\n",
       "<!-- 0 -->\r\n",
       "<g id=\"node1\" class=\"node\"><title>0</title>\r\n",
       "<polygon fill=\"lightgrey\" stroke=\"black\" points=\"145,-120 142,-124 121,-124 118,-120 77,-120 77,-84 145,-84 145,-120\"/>\r\n",
       "<text text-anchor=\"middle\" x=\"111\" y=\"-98.3\" font-family=\"Times New Roman,serif\" font-size=\"14.00\">SMPWR</text>\r\n",
       "</g>\r\n",
       "<!-- 1 -->\r\n",
       "<g id=\"node2\" class=\"node\"><title>1</title>\r\n",
       "<polygon fill=\"lightgrey\" stroke=\"black\" points=\"62,-57 59,-61 38,-61 35,-57 0,-57 0,-21 62,-21 62,-57\"/>\r\n",
       "<text text-anchor=\"middle\" x=\"31\" y=\"-35.3\" font-family=\"Times New Roman,serif\" font-size=\"14.00\">Steamer</text>\r\n",
       "</g>\r\n",
       "<!-- 2 -->\r\n",
       "<g id=\"node3\" class=\"node\"><title>2</title>\r\n",
       "<polygon fill=\"lightgrey\" stroke=\"black\" points=\"151,-36 148,-40 127,-40 124,-36 91,-36 91,-0 151,-0 151,-36\"/>\r\n",
       "<text text-anchor=\"middle\" x=\"121\" y=\"-14.3\" font-family=\"Times New Roman,serif\" font-size=\"14.00\">Turbine</text>\r\n",
       "</g>\r\n",
       "</g>\r\n",
       "</svg>\r\n"
      ],
      "text/plain": [
       "<graphviz.dot.Digraph at 0x1212a487790>"
      ]
     },
     "execution_count": 7,
     "metadata": {},
     "output_type": "execute_result"
    }
   ],
   "source": [
    "plant_net.draw(engine='circo', node_shape='folder')"
   ]
  },
  {
   "cell_type": "markdown",
   "metadata": {},
   "source": [
    "## [Startup](#toc)<a id=\"startup\"></a>"
   ]
  },
  {
   "cell_type": "code",
   "execution_count": 8,
   "metadata": {
    "scrolled": false
   },
   "outputs": [
    {
     "name": "stderr",
     "output_type": "stream",
     "text": [
      "[10628] 2020-12-05 15:34:53,545 - cortix - INFO - Launching Module <bop.reactor.SMPWR object at 0x000001212D294310>\n",
      "[10628] 2020-12-05 15:34:53,659 - cortix - INFO - Launching Module <bop.steamer.Steamer object at 0x000001212A487C70>\n",
      "[10628] 2020-12-05 15:34:53,758 - cortix - INFO - Launching Module <bop.turbine.Turbine object at 0x000001212A4B4370>\n",
      "[10628] 2020-12-05 15:37:53,331 - cortix - INFO - run()::Elapsed wall clock time [s]: 205.3\n"
     ]
    }
   ],
   "source": [
    "'''Run'''\n",
    "\n",
    "import unit\n",
    "end_time = 5 * unit.minute\n",
    "time_step = 1.5 * unit.second\n",
    "show_time = (True, 5*unit.minute)\n",
    "\n",
    "reactor.time_step = steamer.time_step = turbine.time_step = condenser.time_step = water_heater.time_step = time_step\n",
    "reactor.end_time = steamer.end_step = turbine.end_step = condenser.end_step = water_heater.end_step = end_time\n",
    "reactor.show_time = steamer.show_time = turbine.show_time = condenser.show_time = water_heater.show_time = show_time\n",
    "\n",
    "plant.run()  # Run network dynamics simulation"
   ]
  },
  {
   "cell_type": "code",
   "execution_count": 9,
   "metadata": {
    "scrolled": false
   },
   "outputs": [
    {
     "name": "stderr",
     "output_type": "stream",
     "text": [
      "[10628] 2020-12-05 15:38:07,168 - cortix - INFO - Closed Cortix object.\n",
      "_____________________________________________________________________________\n",
      "                           T E R M I N A T I N G                             \n",
      "_____________________________________________________________________________\n",
      "      ...                                        s       .     (TAAG Fraktur)\n",
      "   xH88\"`~ .x8X                                 :8      @88>\n",
      " :8888   .f\"8888Hf        u.      .u    .      .88      %8P      uL   ..\n",
      ":8888>  X8L  ^\"\"`   ...ue888b   .d88B :@8c    :888ooo    .     .@88b  @88R\n",
      "X8888  X888h        888R Y888r =\"8888f8888r -*8888888  .@88u  \"\"Y888k/\"*P\n",
      "88888  !88888.      888R I888>   4888>\"88\"    8888    888E`    Y888L\n",
      "88888   %88888      888R I888>   4888> \"      8888      888E      8888\n",
      "88888 `> `8888>     888R I888>   4888>        8888      888E      `888N\n",
      "`8888L %  ?888   ! u8888cJ888   .d888L .+    .8888Lu=   888E   .u./\"888&\n",
      " `8888  `-*\"\"   /   \"*888*P\"    ^\"8888*\"     ^%888*     888&  d888\" Y888*\"\n",
      "   \"888.      :\"      \"Y\"          \"Y\"         \"Y\"      R888\" ` \"Y   Y\"\n",
      "     `\"\"***~\"`                                           \"\"\n",
      "                             https://cortix.org                              \n",
      "_____________________________________________________________________________\n",
      "[10628] 2020-12-05 15:38:07,169 - cortix - INFO - close()::Elapsed wall clock time [s]: 219.14\n"
     ]
    }
   ],
   "source": [
    "'''Close'''\n",
    "\n",
    "plant.close()  # Properly shutdow plant"
   ]
  },
  {
   "cell_type": "code",
   "execution_count": 10,
   "metadata": {},
   "outputs": [],
   "source": [
    "reactor = plant_net.modules[0]\n",
    "steamer = plant_net.modules[1]"
   ]
  },
  {
   "cell_type": "code",
   "execution_count": 11,
   "metadata": {},
   "outputs": [
    {
     "data": {
      "image/png": "[encoded data removed]",
      "text/plain": [
       "<Figure size 432x288 with 1 Axes>"
      ]
     },
     "metadata": {
      "needs_background": "light"
     },
     "output_type": "display_data"
    }
   ],
   "source": [
    "(quant, time_unit) = reactor.neutron_phase.get_quantity_history('neutron-dens')\n",
    "quant.plot(x_scaling=1, y_scaling=1, x_label='Time [m]', y_label=quant.formal_name+' ['+quant.unit+']')"
   ]
  },
  {
   "cell_type": "code",
   "execution_count": null,
   "metadata": {},
   "outputs": [],
   "source": [
    "help(quant)"
   ]
  },
  {
   "cell_type": "code",
   "execution_count": null,
   "metadata": {},
   "outputs": [],
   "source": []
  },
  {
   "cell_type": "code",
   "execution_count": 12,
   "metadata": {},
   "outputs": [
    {
     "data": {
      "image/png": "[encoded data removed]",
      "text/plain": [
       "<Figure size 432x288 with 1 Axes>"
      ]
     },
     "metadata": {
      "needs_background": "light"
     },
     "output_type": "display_data"
    }
   ],
   "source": [
    "(quant, time_unit) = reactor.neutron_phase.get_quantity_history('delayed-neutrons-cc')\n",
    "quant.plot(x_scaling=1/unit.minute, x_label='Time [m]', y_label=quant.formal_name+' ['+quant.unit+']')"
   ]
  },
  {
   "cell_type": "code",
   "execution_count": 13,
   "metadata": {},
   "outputs": [
    {
     "ename": "AttributeError",
     "evalue": "'SMPWR' object has no attribute 'reactor_phase'",
     "output_type": "error",
     "traceback": [
      "\u001b[1;31m---------------------------------------------------------------------------\u001b[0m",
      "\u001b[1;31mAttributeError\u001b[0m                            Traceback (most recent call last)",
      "\u001b[1;32m<ipython-input-13-994701fb9f5f>\u001b[0m in \u001b[0;36m<module>\u001b[1;34m\u001b[0m\n\u001b[1;32m----> 1\u001b[1;33m \u001b[1;33m(\u001b[0m\u001b[0mquant\u001b[0m\u001b[1;33m,\u001b[0m \u001b[0mtime_unit\u001b[0m\u001b[1;33m)\u001b[0m \u001b[1;33m=\u001b[0m \u001b[0mreactor\u001b[0m\u001b[1;33m.\u001b[0m\u001b[0mreactor_phase\u001b[0m\u001b[1;33m.\u001b[0m\u001b[0mget_quantity_history\u001b[0m\u001b[1;33m(\u001b[0m\u001b[1;34m'fuel-temp'\u001b[0m\u001b[1;33m)\u001b[0m\u001b[1;33m\u001b[0m\u001b[1;33m\u001b[0m\u001b[0m\n\u001b[0m\u001b[0;32m      2\u001b[0m \u001b[0mquant\u001b[0m\u001b[1;33m.\u001b[0m\u001b[0mplot\u001b[0m\u001b[1;33m(\u001b[0m\u001b[0mx_scaling\u001b[0m\u001b[1;33m=\u001b[0m\u001b[1;36m1\u001b[0m\u001b[1;33m/\u001b[0m\u001b[0munit\u001b[0m\u001b[1;33m.\u001b[0m\u001b[0mminute\u001b[0m\u001b[1;33m,\u001b[0m \u001b[0mx_label\u001b[0m\u001b[1;33m=\u001b[0m\u001b[1;34m'Time [m]'\u001b[0m\u001b[1;33m,\u001b[0m \u001b[0my_label\u001b[0m\u001b[1;33m=\u001b[0m\u001b[0mquant\u001b[0m\u001b[1;33m.\u001b[0m\u001b[0mformal_name\u001b[0m\u001b[1;33m+\u001b[0m\u001b[1;34m' ['\u001b[0m\u001b[1;33m+\u001b[0m\u001b[0mquant\u001b[0m\u001b[1;33m.\u001b[0m\u001b[0munit\u001b[0m\u001b[1;33m+\u001b[0m\u001b[1;34m']'\u001b[0m\u001b[1;33m)\u001b[0m\u001b[1;33m\u001b[0m\u001b[1;33m\u001b[0m\u001b[0m\n",
      "\u001b[1;31mAttributeError\u001b[0m: 'SMPWR' object has no attribute 'reactor_phase'"
     ]
    }
   ],
   "source": [
    "(quant, time_unit) = reactor.reactor_phase.get_quantity_history('fuel-temp')\n",
    "quant.plot(x_scaling=1/unit.minute, x_label='Time [m]', y_label=quant.formal_name+' ['+quant.unit+']')"
   ]
  },
  {
   "cell_type": "code",
   "execution_count": 14,
   "metadata": {},
   "outputs": [
    {
     "data": {
      "image/png": "[encoded data removed]",
      "text/plain": [
       "<Figure size 432x288 with 1 Axes>"
      ]
     },
     "metadata": {
      "needs_background": "light"
     },
     "output_type": "display_data"
    }
   ],
   "source": [
    "(quant, time_unit) = reactor.coolant_outflow_phase.get_quantity_history('temp')\n",
    "quant.plot(x_scaling=1/unit.minute, x_label='Time [m]', y_label=quant.formal_name+' ['+quant.unit+']')"
   ]
  },
  {
   "cell_type": "code",
   "execution_count": 15,
   "metadata": {},
   "outputs": [
    {
     "data": {
      "image/png": "[encoded data removed]",
      "text/plain": [
       "<Figure size 432x288 with 1 Axes>"
      ]
     },
     "metadata": {
      "needs_background": "light"
     },
     "output_type": "display_data"
    }
   ],
   "source": [
    "(quant_1, time_unit) = steamer.primary_outflow_phase.get_quantity_history('temp')\n",
    "quant.plot(x_scaling=1/unit.minute, x_label='Time [m]', y_label=quant.formal_name+' ['+quant.unit+']')"
   ]
  },
  {
   "cell_type": "code",
   "execution_count": null,
   "metadata": {},
   "outputs": [],
   "source": [
    "len(quant.GetValue().index)"
   ]
  },
  {
   "cell_type": "code",
   "execution_count": null,
   "metadata": {},
   "outputs": [],
   "source": [
    "type(quant.value)"
   ]
  },
  {
   "cell_type": "code",
   "execution_count": null,
   "metadata": {},
   "outputs": [],
   "source": [
    "print(quant.value.loc[0])"
   ]
  },
  {
   "cell_type": "code",
   "execution_count": 16,
   "metadata": {},
   "outputs": [],
   "source": [
    "y = [i for i in quant_1.value]\n",
    "(quant, time_unit) = steamer.secondary_outflow_phase.get_quantity_history('temp')\n",
    "y_2 = [i for i in quant.value]\n",
    "\n"
   ]
  },
  {
   "cell_type": "code",
   "execution_count": 18,
   "metadata": {},
   "outputs": [
    {
     "name": "stderr",
     "output_type": "stream",
     "text": [
      "No handles with labels found to put in legend.\n"
     ]
    },
    {
     "data": {
      "image/png": "[encoded data removed]",
      "text/plain": [
       "<Figure size 432x288 with 1 Axes>"
      ]
     },
     "metadata": {
      "needs_background": "light"
     },
     "output_type": "display_data"
    }
   ],
   "source": [
    "from matplotlib import pyplot as plt\n",
    "\n",
    "\n",
    "plt.plot(quant.value.index/60,y)\n",
    "plt.plot(quant.value.index/60,y_2)\n",
    "plt.xlim(0.0,2.0) \n",
    "plt.ylabel(r'$T$ [K]',fontsize=16)\n",
    "plt.xlabel(r'$t$ [min]',fontsize=16)\n",
    "    \n",
    "plt.xticks(fontsize=14)\n",
    "plt.yticks(fontsize=14)\n",
    "plt.title('Temperature vs Time',fontsize=20)\n",
    "plt.legend(loc='upper right',bbox_to_anchor=(1.55, 1),fontsize=12)\n",
    "plt.grid(True)\n",
    "plt.show()"
   ]
  },
  {
   "cell_type": "code",
   "execution_count": null,
   "metadata": {},
   "outputs": [],
   "source": [
    "quant.GetValue()"
   ]
  },
  {
   "cell_type": "code",
   "execution_count": null,
   "metadata": {},
   "outputs": [],
   "source": [
    "def plot_quant_func_multi_plot(quant_list)\n",
    "    \n",
    "    for p_pt in range(len(pressure_pts)):\n",
    "        pressure = pressure_pts[p_pt] \n",
    "        color = colors[p_pt]\n",
    "        for i in range(len(species)):\n",
    "            plt.plot(temp_pts, x_vec_block[p_pt,:,i],line_style[i],color=color,label=r' P=%1.1f; $x_{%s}$'%(pressure,species[i]))\n",
    "\n",
    "    plt.xlabel(r'$T$ [K]',fontsize=16)\n",
    "    plt.ylabel(r'$x_j$',fontsize=16)\n",
    "    \n",
    "    plt.xticks(fontsize=14)\n",
    "    plt.yticks(fontsize=14)\n",
    "    plt.legend(loc='center right',bbox_to_anchor=(1.4,0.5),fontsize=16)\n",
    "  \n",
    "    plt.title('Temperature-Pressure Dependency',fontsize=20)\n",
    "    plt.grid(True)\n",
    "    plt.show()\n",
    "print('')\n",
    "    "
   ]
  },
  {
   "cell_type": "code",
   "execution_count": null,
   "metadata": {},
   "outputs": [],
   "source": [
    "(quant, time_unit) = steamer.secondary_outflow_phase.get_quantity_history('temp')\n",
    "quant.plot(x_scaling=1/unit.minute, x_label='Time [m]', y_label=quant.formal_name+' ['+quant.unit+']')"
   ]
  },
  {
   "cell_type": "markdown",
   "metadata": {},
   "source": [
    "## [References](#toc)<a id=\"refs\"></a>\n",
    "\n",
    "- [1] J. Kennedy, N. Kemper, V. F. de Almeida, [Engy-4390: Small Modular Pressurized Water Reactor](https://github.com/dpploy/engy-4390/tree/main/projects/sm-pwr).\n",
    "- [2] Dale Atkinson, “NuScale update for NASEO” Nuscale power, May 2019. Retrieved at:https://naseo.org/Data/Sites/1/atkinson_naseo-may-22,-2019.pdf \n",
    "- [3] V. F. de Almeida, [Cortix](https://cortix.org), *Network Dynamics Simulation*, University of Massachusetts Lowell, Dept. of Chemical Engineering (Nuclear program).\n",
    "- [4] V. F. de Almeida, [*Engy-4350: Nuclear Reactor Engineering*](https://github.com/dpploy/engy-4350), University of Massachusetts Lowell, Dept. of Chemical Engineering (Nuclear Program).\n",
    "- [5] NuScale, \"NuScale Standard PlantDesign Certification Application, Chapter Four, Reactor, Revision 5\", July 2020.Retrieved at:https://www.nrc.gov/docs/ML2022/ML20224A492.pdf\n",
    "- [6] NuScale, \"NuScale Standard PlantDesign Certification Application, Chapter Five, Reactor Coolant Systems and Connecting Systems, Revision 5\", July 2020.Retrieved at:https://www.nrc.gov/docs/ML2022/ML20224A493.pdf\n",
    "- [7] NuScale, \"NuScale Standard PlantDesign Certification Application, Chapter Ten, Steam and Power Conversion System, Revision 5\", July 2020.Retrieved at:https://www.nrc.gov/docs/ML2022/ML20224A499.pdf"
   ]
  },
  {
   "cell_type": "code",
   "execution_count": null,
   "metadata": {},
   "outputs": [],
   "source": []
  }
 ],
 "metadata": {
  "kernelspec": {
   "display_name": "Python 3",
   "language": "python",
   "name": "python3"
  },
  "language_info": {
   "codemirror_mode": {
    "name": "ipython",
    "version": 3
   },
   "file_extension": ".py",
   "mimetype": "text/x-python",
   "name": "python",
   "nbconvert_exporter": "python",
   "pygments_lexer": "ipython3",
   "version": "3.8.3"
  },
  "latex_envs": {
   "LaTeX_envs_menu_present": true,
   "autoclose": false,
   "autocomplete": true,
   "bibliofile": "biblio.bib",
   "cite_by": "apalike",
   "current_citInitial": 1,
   "eqLabelWithNumbers": true,
   "eqNumInitial": 1,
   "hotkeys": {
    "equation": "Ctrl-E",
    "itemize": "Ctrl-I"
   },
   "labels_anchors": false,
   "latex_user_defs": false,
   "report_style_numbering": false,
   "user_envs_cfg": false
  }
 },
 "nbformat": 4,
 "nbformat_minor": 2
}
